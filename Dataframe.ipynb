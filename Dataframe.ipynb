{
  "nbformat": 4,
  "nbformat_minor": 0,
  "metadata": {
    "colab": {
      "provenance": [],
      "authorship_tag": "ABX9TyPzL9StiYj0qMEu7WLXADOs",
      "include_colab_link": true
    },
    "kernelspec": {
      "name": "python3",
      "display_name": "Python 3"
    },
    "language_info": {
      "name": "python"
    }
  },
  "cells": [
    {
      "cell_type": "markdown",
      "metadata": {
        "id": "view-in-github",
        "colab_type": "text"
      },
      "source": [
        "<a href=\"https://colab.research.google.com/github/DevManoj19/Practice/blob/main/Dataframe.ipynb\" target=\"_parent\"><img src=\"https://colab.research.google.com/assets/colab-badge.svg\" alt=\"Open In Colab\"/></a>"
      ]
    },
    {
      "cell_type": "code",
      "execution_count": null,
      "metadata": {
        "id": "dMNllNkLVxOY"
      },
      "outputs": [],
      "source": []
    },
    {
      "source": [
        "import pandas as pd\n",
        "\n",
        "# Create a sample DataFrame\n",
        "data = {'Name': ['manoj', 'Bob', 'Charlie', 'David'],\n",
        "        'Age': [25, 30, 22, 28],\n",
        "        'City': ['New York', 'London', 'Paris', 'Tokyo']}\n",
        "df = pd.DataFrame(data)\n",
        "\n",
        "# Display the DataFrame\n",
        "print(\"Original DataFrame:\")\n",
        "print(df)\n",
        "\n",
        "# Accessing data\n",
        "print(\"\\nAccessing data:\")\n",
        "print(\"Names:\", df['Name'])  # Access a column by name\n",
        "print(\"Age of manoj:\", df.loc[df['Name'] == 'manoj', 'Age'].iloc[0])  # Access a specific value\n",
        "\n",
        "# Adding a new column\n",
        "df['Salary'] = [500000000, 60000, 45000, 55000]\n",
        "print(\"\\nDataFrame with added 'Salary' column:\")\n",
        "print(df)\n",
        "\n",
        "# Filtering data\n",
        "print(\"\\nFiltering data (Age > 25):\")\n",
        "print(df[df['Age'] > 25])\n",
        "\n",
        "# Sorting data\n",
        "print(\"\\nSorting data by Age:\")\n",
        "print(df.sort_values(by=['Age']))\n",
        "\n",
        "# Grouping data\n",
        "print(\"\\nGrouping data by City and calculating average Age:\")\n",
        "print(df.groupby('City')['Age'].mean())"
      ],
      "cell_type": "code",
      "metadata": {
        "colab": {
          "base_uri": "https://localhost:8080/"
        },
        "id": "-3Eb3vOpWjIR",
        "outputId": "2e62ef68-c492-492f-9205-ad31e6c2e663"
      },
      "execution_count": null,
      "outputs": [
        {
          "output_type": "stream",
          "name": "stdout",
          "text": [
            "Original DataFrame:\n",
            "      Name  Age      City\n",
            "0    manoj   25  New York\n",
            "1      Bob   30    London\n",
            "2  Charlie   22     Paris\n",
            "3    David   28     Tokyo\n",
            "\n",
            "Accessing data:\n",
            "Names: 0      manoj\n",
            "1        Bob\n",
            "2    Charlie\n",
            "3      David\n",
            "Name: Name, dtype: object\n",
            "Age of manoj: 25\n",
            "\n",
            "DataFrame with added 'Salary' column:\n",
            "      Name  Age      City     Salary\n",
            "0    manoj   25  New York  500000000\n",
            "1      Bob   30    London      60000\n",
            "2  Charlie   22     Paris      45000\n",
            "3    David   28     Tokyo      55000\n",
            "\n",
            "Filtering data (Age > 25):\n",
            "    Name  Age    City  Salary\n",
            "1    Bob   30  London   60000\n",
            "3  David   28   Tokyo   55000\n",
            "\n",
            "Sorting data by Age:\n",
            "      Name  Age      City     Salary\n",
            "2  Charlie   22     Paris      45000\n",
            "0    manoj   25  New York  500000000\n",
            "3    David   28     Tokyo      55000\n",
            "1      Bob   30    London      60000\n",
            "\n",
            "Grouping data by City and calculating average Age:\n",
            "City\n",
            "London      30.0\n",
            "New York    25.0\n",
            "Paris       22.0\n",
            "Tokyo       28.0\n",
            "Name: Age, dtype: float64\n"
          ]
        }
      ]
    }
  ]
}