{
  "nbformat": 4,
  "nbformat_minor": 0,
  "metadata": {
    "colab": {
      "provenance": [],
      "authorship_tag": "ABX9TyMm7XLlW/x4Usps532Cmtrn",
      "include_colab_link": true
    },
    "kernelspec": {
      "name": "python3",
      "display_name": "Python 3"
    },
    "language_info": {
      "name": "python"
    }
  },
  "cells": [
    {
      "cell_type": "markdown",
      "metadata": {
        "id": "view-in-github",
        "colab_type": "text"
      },
      "source": [
        "<a href=\"https://colab.research.google.com/github/DevManoj19/Practice/blob/main/Socket_programmming.ipynb\" target=\"_parent\"><img src=\"https://colab.research.google.com/assets/colab-badge.svg\" alt=\"Open In Colab\"/></a>"
      ]
    },
    {
      "cell_type": "code",
      "execution_count": null,
      "metadata": {
        "id": "-XX3l6o6g7kA"
      },
      "outputs": [],
      "source": []
    },
    {
      "source": [
        "import socket\n",
        "import os\n",
        "\n",
        "def start_server():\n",
        "    host = socket.gethostname()  # Get the hostname of the machine\n",
        "    port = 9999  # Define the port number\n",
        "\n",
        "    server_socket = socket.socket(socket.AF_INET, socket.SOCK_STREAM)\n",
        "    server_socket.setsockopt(socket.SOL_SOCKET, socket.SO_REUSEADDR, 1)\n",
        "\n",
        "    try:\n",
        "        server_socket.bind((host, port))  # Bind the socket to the address and port\n",
        "        server_socket.listen(5)  # Start listening for incoming connections\n",
        "        print(f\"Server started on {host}:{port}\")\n",
        "\n",
        "        while True:\n",
        "            client_socket, addr = server_socket.accept()  # Accept a connection\n",
        "            print(f\"Got connection from {addr}\")\n",
        "            msg = \"Thank you for connecting\\r\\n\"\n",
        "            client_socket.send(msg.encode('ascii'))\n",
        "            client_socket.close()  # Close the client socket\n",
        "    except OSError as e:\n",
        "        print(f\"Error starting server: {e}\")\n",
        "    finally:\n",
        "        server_socket.close()  # Close the server socket\n",
        "\n",
        "if __name__ == \"__main__\":\n",
        "    start_server()"
      ],
      "cell_type": "code",
      "metadata": {
        "colab": {
          "base_uri": "https://localhost:8080/"
        },
        "id": "NKnUT_TxI6eD",
        "outputId": "135d9df8-869e-4361-94e0-75635a0d2a78"
      },
      "execution_count": 4,
      "outputs": [
        {
          "output_type": "stream",
          "name": "stdout",
          "text": [
            "Error starting server: [Errno 98] Address already in use\n"
          ]
        }
      ]
    }
  ]
}