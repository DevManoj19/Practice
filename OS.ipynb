{
  "nbformat": 4,
  "nbformat_minor": 0,
  "metadata": {
    "colab": {
      "provenance": [],
      "mount_file_id": "1XqGAjpYpMoIFoFrFPsQ2GlkVTw1dFXqD",
      "authorship_tag": "ABX9TyOD8yUq7irIEQOfJQCNzrXT",
      "include_colab_link": true
    },
    "kernelspec": {
      "name": "python3",
      "display_name": "Python 3"
    },
    "language_info": {
      "name": "python"
    }
  },
  "cells": [
    {
      "cell_type": "markdown",
      "metadata": {
        "id": "view-in-github",
        "colab_type": "text"
      },
      "source": [
        "<a href=\"https://colab.research.google.com/github/DevManoj19/Practice/blob/main/OS.ipynb\" target=\"_parent\"><img src=\"https://colab.research.google.com/assets/colab-badge.svg\" alt=\"Open In Colab\"/></a>"
      ]
    },
    {
      "source": [
        "import os\n",
        "import platform\n",
        "\n",
        "# Display operating system details\n",
        "print(\"Operating System:\", platform.system())\n",
        "print(\"Operating System Release:\", platform.release())\n",
        "print(\"Operating System Version:\", platform.version())\n",
        "\n",
        "# Display current working directory\n",
        "print(\"\\nCurrent Working Directory:\", os.getcwd())\n",
        "\n",
        "# List files and directories in the current directory\n",
        "print(\"\\nFiles and Directories:\")\n",
        "for item in os.listdir():\n",
        "    print(item)\n",
        "\n",
        "# Scan and classify files and directories\n",
        "print(\"\\nClassification:\")\n",
        "for item in os.listdir():\n",
        "    if os.path.isfile(item):\n",
        "        print(item, \"- File\")\n",
        "    elif os.path.isdir(item):\n",
        "        print(item, \"- Directory\")"
      ],
      "cell_type": "code",
      "metadata": {
        "colab": {
          "base_uri": "https://localhost:8080/"
        },
        "id": "7AzlnL757G-k",
        "outputId": "4df2893e-de29-4a23-98f4-8b14926afcfd"
      },
      "execution_count": null,
      "outputs": [
        {
          "output_type": "stream",
          "name": "stdout",
          "text": [
            "Operating System: Linux\n",
            "Operating System Release: 6.1.123+\n",
            "Operating System Version: #1 SMP PREEMPT_DYNAMIC Sun Mar 30 16:01:29 UTC 2025\n",
            "\n",
            "Current Working Directory: /content\n",
            "\n",
            "Files and Directories:\n",
            ".config\n",
            "drive\n",
            "sample_data\n",
            "\n",
            "Classification:\n",
            ".config - Directory\n",
            "drive - Directory\n",
            "sample_data - Directory\n"
          ]
        }
      ]
    }
  ]
}