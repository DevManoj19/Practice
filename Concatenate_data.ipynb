{
  "nbformat": 4,
  "nbformat_minor": 0,
  "metadata": {
    "colab": {
      "provenance": [],
      "authorship_tag": "ABX9TyOxPfsMVwx9aXTqAH9o1dp4",
      "include_colab_link": true
    },
    "kernelspec": {
      "name": "python3",
      "display_name": "Python 3"
    },
    "language_info": {
      "name": "python"
    }
  },
  "cells": [
    {
      "cell_type": "markdown",
      "metadata": {
        "id": "view-in-github",
        "colab_type": "text"
      },
      "source": [
        "<a href=\"https://colab.research.google.com/github/DevManoj19/Practice/blob/main/Concatenate_data.ipynb\" target=\"_parent\"><img src=\"https://colab.research.google.com/assets/colab-badge.svg\" alt=\"Open In Colab\"/></a>"
      ]
    },
    {
      "cell_type": "code",
      "execution_count": null,
      "metadata": {
        "id": "puQh_xEQfoqH"
      },
      "outputs": [],
      "source": []
    },
    {
      "source": [
        "import pandas as pd\n",
        "\n",
        "file_path = \"sample_data.xlsx\"\n",
        "\n",
        "data = pd.DataFrame({'Name': ['MANOJ', 'JONAM'], 'Age': [21, 20], 'city': ['ALIPURDUAR', 'CHANDHIGARH']})\n",
        "# Saving with index\n",
        "data.to_excel(file_path, index=True)\n",
        "print(\"input data:\\n\", pd.read_excel(file_path))\n",
        "\n",
        "new_data = pd.DataFrame({'Name': ['VINAY', 'JASMI'], 'Age': [19, 20], 'city': ['visakhapatnam', 'hyderabad']})\n",
        "# Concatenating and saving with index\n",
        "pd.concat([pd.read_excel(file_path), new_data]).to_excel(file_path, index=True)\n",
        "\n",
        "df = pd.read_excel(file_path)\n",
        "\n",
        "df.loc[df['Name'] == 'MANOJ', 'Age'] = 21\n",
        "# Saving with index\n",
        "df.to_excel(file_path, index=True)\n",
        "print(\"updated data:\\n\", pd.read_excel(file_path))"
      ],
      "cell_type": "code",
      "metadata": {
        "colab": {
          "base_uri": "https://localhost:8080/"
        },
        "id": "J7E9yDvGS-Sx",
        "outputId": "9794b45a-7dd6-4007-d9b8-0d4294c898ac"
      },
      "execution_count": null,
      "outputs": [
        {
          "output_type": "stream",
          "name": "stdout",
          "text": [
            "input data:\n",
            "    Unnamed: 0   Name  Age         city\n",
            "0           0  MANOJ   21   ALIPURDUAR\n",
            "1           1  JONAM   20  CHANDHIGARH\n",
            "updated data:\n",
            "    Unnamed: 0.2  Unnamed: 0.1  Unnamed: 0   Name  Age           city\n",
            "0             0             0         0.0  MANOJ   21     ALIPURDUAR\n",
            "1             1             1         1.0  JONAM   20    CHANDHIGARH\n",
            "2             2             0         NaN  VINAY   19  visakhapatnam\n",
            "3             3             1         NaN  JASMI   20      hyderabad\n"
          ]
        }
      ]
    },
    {
      "source": [
        "import pandas as pd\n",
        "\n",
        "file_path = \"sample_data.xlsx\"\n",
        "\n",
        "data = pd.DataFrame({'Name': ['MANOJ', 'JONAM'], 'Age': [21, 20], 'city': ['ALIPURDUAR', 'CHANDHIGARH']})\n",
        "data.to_excel(file_path, index=False)\n",
        "print(\"input data:\\n\", pd.read_excel(file_path))\n",
        "\n",
        "\n",
        "new_data = pd.DataFrame({'Name': ['VINAY', 'JASMI'], 'Age': [19, 20], 'city': ['visakhapatnam', 'hyderabad']})\n",
        "pd.concat([pd.read_excel(file_path), new_data]).to_excel(file_path, index=False)\n",
        "\n",
        "df = pd.read_excel(file_path)\n",
        "\n",
        "df.loc[df['Name'] == 'MANOJ', 'Age'] = 21\n",
        "df.to_excel(file_path, index=False)\n",
        "print(\"updated data:\\n\", pd.read_excel(file_path))"
      ],
      "cell_type": "code",
      "metadata": {
        "colab": {
          "base_uri": "https://localhost:8080/"
        },
        "id": "iIqQuAEuhf1w",
        "outputId": "62820204-6593-4e68-c048-b949a3cc7403"
      },
      "execution_count": null,
      "outputs": [
        {
          "output_type": "stream",
          "name": "stdout",
          "text": [
            "input data:\n",
            "     Name  Age         city\n",
            "0  MANOJ   21   ALIPURDUAR\n",
            "1  JONAM   20  CHANDHIGARH\n",
            "updated data:\n",
            "     Name  Age           city\n",
            "0  MANOJ   21     ALIPURDUAR\n",
            "1  JONAM   20    CHANDHIGARH\n",
            "2  VINAY   19  visakhapatnam\n",
            "3  JASMI   20      hyderabad\n"
          ]
        }
      ]
    }
  ]
}