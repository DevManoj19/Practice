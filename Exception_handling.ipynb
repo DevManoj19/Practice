{
  "nbformat": 4,
  "nbformat_minor": 0,
  "metadata": {
    "colab": {
      "provenance": [],
      "authorship_tag": "ABX9TyNnVHq+/o3MztxuuZsXpmCe",
      "include_colab_link": true
    },
    "kernelspec": {
      "name": "python3",
      "display_name": "Python 3"
    },
    "language_info": {
      "name": "python"
    }
  },
  "cells": [
    {
      "cell_type": "markdown",
      "metadata": {
        "id": "view-in-github",
        "colab_type": "text"
      },
      "source": [
        "<a href=\"https://colab.research.google.com/github/DevManoj19/Practice/blob/main/Exception_handling.ipynb\" target=\"_parent\"><img src=\"https://colab.research.google.com/assets/colab-badge.svg\" alt=\"Open In Colab\"/></a>"
      ]
    },
    {
      "cell_type": "code",
      "execution_count": 1,
      "metadata": {
        "colab": {
          "base_uri": "https://localhost:8080/",
          "height": 106
        },
        "id": "7iR07L8-A3Ob",
        "outputId": "bb21f91d-1a8d-4597-c0b1-fc7b85b77b32"
      },
      "outputs": [
        {
          "output_type": "error",
          "ename": "SyntaxError",
          "evalue": "expected ':' (<ipython-input-1-4aeb743a23c6>, line 6)",
          "traceback": [
            "\u001b[0;36m  File \u001b[0;32m\"<ipython-input-1-4aeb743a23c6>\"\u001b[0;36m, line \u001b[0;32m6\u001b[0m\n\u001b[0;31m    if(amount > 69990)\u001b[0m\n\u001b[0m                      ^\u001b[0m\n\u001b[0;31mSyntaxError\u001b[0m\u001b[0;31m:\u001b[0m expected ':'\n"
          ]
        }
      ],
      "source": [
        "# initialize the amount variable\n",
        "amount = 80000\n",
        "\n",
        "# check that You are eligible to\n",
        "# pay the fees or not\n",
        "if(amount > 69990)\n",
        "print(\"You are eligible to pay the fees\")\n"
      ]
    },
    {
      "cell_type": "code",
      "source": [
        "# function which return reverse of a string\n",
        "\n",
        "def isPalindrome(s):\n",
        "\treturn s == s[::-1]\n",
        "\n",
        "\n",
        "# Driver code\n",
        "s = \"malayalam\"\n",
        "ans = isPalindrome(s)\n",
        "\n",
        "if ans:\n",
        "\tprint(\"Yes\")\n",
        "else:\n",
        "\tprint(\"No\")\n",
        "\n"
      ],
      "metadata": {
        "colab": {
          "base_uri": "https://localhost:8080/"
        },
        "id": "X_B8r2oJGu9D",
        "outputId": "a785b5da-9614-4a68-9d10-6f056cc28394"
      },
      "execution_count": null,
      "outputs": [
        {
          "output_type": "stream",
          "name": "stdout",
          "text": [
            "Yes\n"
          ]
        }
      ]
    },
    {
      "cell_type": "code",
      "source": [
        "# Recursive function to check if a\n",
        "# string is palindrome\n",
        "def isPalindrome(s):\n",
        "\n",
        "\t# to change it the string is similar case\n",
        "\ts = s.lower()\n",
        "\t# length of s\n",
        "\tl = len(s)\n",
        "\n",
        "\t# if length is less than 2\n",
        "\tif l < 2:\n",
        "\t\treturn True\n",
        "\n",
        "\t# If s[0] and s[l-1] are equal\n",
        "\telif s[0] == s[l - 1]:\n",
        "\n",
        "\t\t# Call is palindrome form substring(1,l-1)\n",
        "\t\treturn isPalindrome(s[1: l - 1])\n",
        "\n",
        "\telse:\n",
        "\t\treturn False\n",
        "\n",
        "# Driver Code\n",
        "s = \"MalaYaLam\"\n",
        "ans = isPalindrome(s)\n",
        "\n",
        "if ans:\n",
        "\tprint(\"Yes\")\n",
        "\n",
        "else:\n",
        "\tprint(\"No\")\n"
      ],
      "metadata": {
        "colab": {
          "base_uri": "https://localhost:8080/"
        },
        "id": "fXq03t75Kzl1",
        "outputId": "c7891551-c9b1-4ed1-9e02-ddf34903be09"
      },
      "execution_count": null,
      "outputs": [
        {
          "output_type": "stream",
          "name": "stdout",
          "text": [
            "Yes\n"
          ]
        }
      ]
    },
    {
      "cell_type": "code",
      "source": [
        "#Any unusual situation in the program leading to an interruption in the program’s normal flow is called an exception.\n",
        "\n"
      ],
      "metadata": {
        "id": "0pBfOYzMNFJx"
      },
      "execution_count": null,
      "outputs": []
    }
  ]
}