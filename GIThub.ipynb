{
  "nbformat": 4,
  "nbformat_minor": 0,
  "metadata": {
    "colab": {
      "provenance": [],
      "authorship_tag": "ABX9TyPDH0Vn6nXtHEjruB3/1yYD",
      "include_colab_link": true
    },
    "kernelspec": {
      "name": "python3",
      "display_name": "Python 3"
    },
    "language_info": {
      "name": "python"
    }
  },
  "cells": [
    {
      "cell_type": "markdown",
      "metadata": {
        "id": "view-in-github",
        "colab_type": "text"
      },
      "source": [
        "<a href=\"https://colab.research.google.com/github/DevManoj19/Practice/blob/main/GIThub.ipynb\" target=\"_parent\"><img src=\"https://colab.research.google.com/assets/colab-badge.svg\" alt=\"Open In Colab\"/></a>"
      ]
    },
    {
      "source": [
        "!pip install Pillow==9.5.0\n",
        "\n",
        "from PIL import Image, ImageDraw\n",
        "from IPython.display import display\n",
        "\n",
        "# Set image dimensions\n",
        "width = 200\n",
        "height = 100\n",
        "\n",
        "# Create a new image with a white background\n",
        "img = Image.new('RGB', (width, height), color='white')\n",
        "\n",
        "# Create a drawing object\n",
        "draw = ImageDraw.Draw(img)\n",
        "\n",
        "# Draw a red rectangle\n",
        "draw.rectangle([(20, 20), (80, 80)], fill='red')\n",
        "\n",
        "# Draw a blue circle\n",
        "draw.ellipse([(120, 20), (180, 80)], fill='blue')\n",
        "\n",
        "# Add some text\n",
        "draw.text((50, 90), 'Hello, Colab!', fill='black')\n",
        "\n",
        "# Display the image\n",
        "display(img)"
      ],
      "cell_type": "code",
      "metadata": {
        "colab": {
          "base_uri": "https://localhost:8080/",
          "height": 134
        },
        "id": "bshkv3IH1hF8",
        "outputId": "7473889e-663d-491a-fee7-09dd37408af2"
      },
      "execution_count": 1,
      "outputs": [
        {
          "output_type": "stream",
          "name": "stdout",
          "text": [
            "Requirement already satisfied: Pillow==9.5.0 in /usr/local/lib/python3.11/dist-packages (9.5.0)\n"
          ]
        },
        {
          "output_type": "display_data",
          "data": {
            "text/plain": [
              "<PIL.Image.Image image mode=RGB size=200x100>"
            ],
            "image/png": "[encoded data removed]"
          },
          "metadata": {}
        }
      ]
    }
  ]
}